{
  "nbformat": 4,
  "nbformat_minor": 0,
  "metadata": {
    "colab": {
      "name": "PySpark SQL.ipynb",
      "provenance": [],
      "authorship_tag": "ABX9TyPryc0rVb/uHNl1wBJRWCay",
      "include_colab_link": true
    },
    "kernelspec": {
      "name": "python3",
      "display_name": "Python 3"
    },
    "language_info": {
      "name": "python"
    }
  },
  "cells": [
    {
      "cell_type": "markdown",
      "metadata": {
        "id": "view-in-github",
        "colab_type": "text"
      },
      "source": [
        "<a href=\"https://colab.research.google.com/github/dspauloplima/PySpark/blob/main/PySpark_SQL.ipynb\" target=\"_parent\"><img src=\"https://colab.research.google.com/assets/colab-badge.svg\" alt=\"Open In Colab\"/></a>"
      ]
    },
    {
      "cell_type": "markdown",
      "metadata": {
        "id": "9WOhO9RXnrj4"
      },
      "source": [
        "## PySpark SQL"
      ]
    },
    {
      "cell_type": "code",
      "metadata": {
        "colab": {
          "base_uri": "https://localhost:8080/"
        },
        "id": "SPG4KhDtncju",
        "outputId": "f13917c0-5b2b-4232-8bb8-5f34b2fd80e4"
      },
      "source": [
        "!pip -q install pyspark"
      ],
      "execution_count": 2,
      "outputs": [
        {
          "output_type": "stream",
          "text": [
            "\u001b[K     |████████████████████████████████| 212.3MB 70kB/s \n",
            "\u001b[K     |████████████████████████████████| 204kB 40.1MB/s \n",
            "\u001b[?25h  Building wheel for pyspark (setup.py) ... \u001b[?25l\u001b[?25hdone\n"
          ],
          "name": "stdout"
        }
      ]
    },
    {
      "cell_type": "code",
      "metadata": {
        "id": "JIj4lxSknzpJ"
      },
      "source": [
        "import pandas as pd\n",
        "from pyspark.sql import SparkSession\n",
        "from pyspark.sql.functions import pandas_udf"
      ],
      "execution_count": 18,
      "outputs": []
    },
    {
      "cell_type": "code",
      "metadata": {
        "id": "ojAXhTLBoMev"
      },
      "source": [
        "spark = SparkSession.builder.getOrCreate()"
      ],
      "execution_count": 5,
      "outputs": []
    },
    {
      "cell_type": "code",
      "metadata": {
        "colab": {
          "base_uri": "https://localhost:8080/"
        },
        "id": "lHi69V45of4u",
        "outputId": "61dde378-4ada-43f1-ca78-856a37ac751b"
      },
      "source": [
        "df = spark.createDataFrame([\n",
        "    ['red', 'banana', 1, 10], ['blue', 'banana', 2, 20], ['red', 'carrot', 3, 30],\n",
        "    ['blue', 'grape', 4, 40], ['red', 'carrot', 5, 50], ['black', 'carrot', 6, 60],\n",
        "    ['red', 'banana', 7, 70], ['red', 'grape', 8, 80]], schema=['color', 'fruit', 'v1', 'v2'])\n",
        "\n",
        "df.show()"
      ],
      "execution_count": 6,
      "outputs": [
        {
          "output_type": "stream",
          "text": [
            "+-----+------+---+---+\n",
            "|color| fruit| v1| v2|\n",
            "+-----+------+---+---+\n",
            "|  red|banana|  1| 10|\n",
            "| blue|banana|  2| 20|\n",
            "|  red|carrot|  3| 30|\n",
            "| blue| grape|  4| 40|\n",
            "|  red|carrot|  5| 50|\n",
            "|black|carrot|  6| 60|\n",
            "|  red|banana|  7| 70|\n",
            "|  red| grape|  8| 80|\n",
            "+-----+------+---+---+\n",
            "\n"
          ],
          "name": "stdout"
        }
      ]
    },
    {
      "cell_type": "markdown",
      "metadata": {
        "id": "X8p4V_r_pBqV"
      },
      "source": [
        "## Tabela temporária"
      ]
    },
    {
      "cell_type": "code",
      "metadata": {
        "id": "Z0JtESj2okam"
      },
      "source": [
        "df.createTempView(\"tableA\")"
      ],
      "execution_count": 7,
      "outputs": []
    },
    {
      "cell_type": "markdown",
      "metadata": {
        "id": "RMwg7SWlpEht"
      },
      "source": [
        "## SQL Queries"
      ]
    },
    {
      "cell_type": "code",
      "metadata": {
        "colab": {
          "base_uri": "https://localhost:8080/"
        },
        "id": "rDeTZwvUovQF",
        "outputId": "93029791-f2ef-44ca-d21c-68d186e7c251"
      },
      "source": [
        "spark.sql(\"SELECT count(*) FROM tableA\").show()"
      ],
      "execution_count": 12,
      "outputs": [
        {
          "output_type": "stream",
          "text": [
            "+--------+\n",
            "|count(1)|\n",
            "+--------+\n",
            "|       8|\n",
            "+--------+\n",
            "\n"
          ],
          "name": "stdout"
        }
      ]
    },
    {
      "cell_type": "code",
      "metadata": {
        "colab": {
          "base_uri": "https://localhost:8080/"
        },
        "id": "21exouARpGza",
        "outputId": "c85121f7-5fea-4a37-962d-86ebcceff0fd"
      },
      "source": [
        "#função\n",
        "@pandas_udf(\"integer\")\n",
        "def add_one(s: pd.Series) -> pd.Series:\n",
        "  return s+1\n",
        "\n",
        "# registra uma função python como uma função SQL\n",
        "spark.udf.register(\"add_one\", add_one)\n",
        "\n",
        "#aplicação\n",
        "spark.sql(\"SELECT add_one(v1) as Add_One FROM tableA LIMIT 3\").show()"
      ],
      "execution_count": 30,
      "outputs": [
        {
          "output_type": "stream",
          "text": [
            "+-------+\n",
            "|Add_One|\n",
            "+-------+\n",
            "|      2|\n",
            "|      3|\n",
            "|      4|\n",
            "+-------+\n",
            "\n"
          ],
          "name": "stdout"
        }
      ]
    },
    {
      "cell_type": "code",
      "metadata": {
        "colab": {
          "base_uri": "https://localhost:8080/"
        },
        "id": "abJ7R8uUqAFw",
        "outputId": "52a9a1ba-f704-4249-96a6-010687a5ffb4"
      },
      "source": [
        "from pyspark.sql.functions import expr\n",
        "\n",
        "df.selectExpr(\"add_one(v1)\").show()\n",
        "df.select(expr(\"count(*)\") > 5).show()\n",
        "df.select(expr(\"count(*)\") > 8).show()"
      ],
      "execution_count": 40,
      "outputs": [
        {
          "output_type": "stream",
          "text": [
            "+-----------+\n",
            "|add_one(v1)|\n",
            "+-----------+\n",
            "|          2|\n",
            "|          3|\n",
            "|          4|\n",
            "|          5|\n",
            "|          6|\n",
            "|          7|\n",
            "|          8|\n",
            "|          9|\n",
            "+-----------+\n",
            "\n",
            "+--------------+\n",
            "|(count(1) > 5)|\n",
            "+--------------+\n",
            "|          true|\n",
            "+--------------+\n",
            "\n",
            "+--------------+\n",
            "|(count(1) > 8)|\n",
            "+--------------+\n",
            "|         false|\n",
            "+--------------+\n",
            "\n"
          ],
          "name": "stdout"
        }
      ]
    }
  ]
}